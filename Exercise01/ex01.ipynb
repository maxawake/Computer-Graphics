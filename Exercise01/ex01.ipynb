{
 "cells": [
  {
   "cell_type": "code",
   "execution_count": 13,
   "metadata": {},
   "outputs": [
    {
     "name": "stdout",
     "output_type": "stream",
     "text": [
      "5.710257587181995e-09\n",
      "4.54407860664007e-10\n"
     ]
    }
   ],
   "source": [
    "import numpy as np\n",
    "d_se = 1.496e11\n",
    "r_s = 6.963e8\n",
    "r_E = 6.378e6\n",
    "\n",
    "A_E = np.pi*r_E**2\n",
    "\n",
    "a = np.sqrt(d_se**2+r_E**2)\n",
    "M_E = 2*np.pi*a*(a-np.sqrt(a**2-r_E**2))\n",
    "print((M_E/d_se**2))\n",
    "print((M_E/d_se**2)/(4*np.pi))"
   ]
  },
  {
   "cell_type": "code",
   "execution_count": 14,
   "metadata": {},
   "outputs": [
    {
     "name": "stdout",
     "output_type": "stream",
     "text": [
      "1.747652632113771e+17\n"
     ]
    }
   ],
   "source": [
    "phi_S = 3.846e26\n",
    "print((M_E/d_se**2)/(4*np.pi)*phi_S)"
   ]
  },
  {
   "cell_type": "code",
   "execution_count": null,
   "metadata": {},
   "outputs": [],
   "source": []
  }
 ],
 "metadata": {
  "kernelspec": {
   "display_name": "Python 3.9.12 ('base')",
   "language": "python",
   "name": "python3"
  },
  "language_info": {
   "codemirror_mode": {
    "name": "ipython",
    "version": 3
   },
   "file_extension": ".py",
   "mimetype": "text/x-python",
   "name": "python",
   "nbconvert_exporter": "python",
   "pygments_lexer": "ipython3",
   "version": "3.9.12"
  },
  "orig_nbformat": 4,
  "vscode": {
   "interpreter": {
    "hash": "201f1b4038dffb4c6751655281afe604dea13cfaed561b9843a99ea909229d43"
   }
  }
 },
 "nbformat": 4,
 "nbformat_minor": 2
}
