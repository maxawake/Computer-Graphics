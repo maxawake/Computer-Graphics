{
 "cells": [
  {
   "cell_type": "code",
   "execution_count": 10,
   "metadata": {},
   "outputs": [
    {
     "data": {
      "text/plain": [
       "(0.0, 5.0)"
      ]
     },
     "execution_count": 10,
     "metadata": {},
     "output_type": "execute_result"
    },
    {
     "data": {
      "image/png": "[encoded data removed]",
      "text/plain": [
       "<Figure size 432x288 with 1 Axes>"
      ]
     },
     "metadata": {
      "needs_background": "light"
     },
     "output_type": "display_data"
    }
   ],
   "source": [
    "import numpy as np\n",
    "import matplotlib.pyplot as plt\n",
    "\n",
    "points = np.array([[2,2],[3,1],[4,2],[3,3],[2,2]])\n",
    "plt.plot(points[:,0], points[:,1], \"o-\")\n",
    "plt.xlim(0,5)\n",
    "plt.ylim(0,5)"
   ]
  },
  {
   "cell_type": "code",
   "execution_count": 36,
   "metadata": {},
   "outputs": [],
   "source": [
    "from sympy import Matrix, sin, cos, print_latex\n",
    "from sympy.abc import phi, psi, theta"
   ]
  },
  {
   "cell_type": "code",
   "execution_count": 37,
   "metadata": {},
   "outputs": [
    {
     "data": {
      "text/latex": [
       "$\\displaystyle \\left[\\begin{matrix}1 & 0 & 0\\\\0 & \\cos{\\left(\\phi \\right)} & - \\sin{\\left(\\phi \\right)}\\\\0 & \\sin{\\left(\\phi \\right)} & \\cos{\\left(\\phi \\right)}\\end{matrix}\\right]$"
      ],
      "text/plain": [
       "Matrix([\n",
       "[1,        0,         0],\n",
       "[0, cos(phi), -sin(phi)],\n",
       "[0, sin(phi),  cos(phi)]])"
      ]
     },
     "execution_count": 37,
     "metadata": {},
     "output_type": "execute_result"
    }
   ],
   "source": [
    "R_x = Matrix([[1, 0, 0], [0, cos(phi), -sin(phi)], [0, sin(phi), cos(phi)]])\n",
    "R_x\n",
    "             "
   ]
  },
  {
   "cell_type": "code",
   "execution_count": 38,
   "metadata": {},
   "outputs": [
    {
     "data": {
      "text/latex": [
       "$\\displaystyle \\left[\\begin{matrix}\\cos{\\left(\\phi \\right)} & 0 & \\sin{\\left(\\phi \\right)}\\\\0 & 1 & 0\\\\- \\sin{\\left(\\phi \\right)} & 0 & \\cos{\\left(\\phi \\right)}\\end{matrix}\\right]$"
      ],
      "text/plain": [
       "Matrix([\n",
       "[ cos(phi), 0, sin(phi)],\n",
       "[        0, 1,        0],\n",
       "[-sin(phi), 0, cos(phi)]])"
      ]
     },
     "execution_count": 38,
     "metadata": {},
     "output_type": "execute_result"
    }
   ],
   "source": [
    "R_y = Matrix([[cos(phi), 0, sin(phi)], [0,1,0], [-sin(phi), 0, cos(phi)]])\n",
    "R_y\n"
   ]
  },
  {
   "cell_type": "code",
   "execution_count": 39,
   "metadata": {},
   "outputs": [
    {
     "data": {
      "text/latex": [
       "$\\displaystyle \\left[\\begin{matrix}\\cos{\\left(\\phi \\right)} & - \\sin{\\left(\\phi \\right)} & 0\\\\\\sin{\\left(\\phi \\right)} & \\cos{\\left(\\phi \\right)} & 0\\\\0 & 0 & 1\\end{matrix}\\right]$"
      ],
      "text/plain": [
       "Matrix([\n",
       "[cos(phi), -sin(phi), 0],\n",
       "[sin(phi),  cos(phi), 0],\n",
       "[       0,         0, 1]])"
      ]
     },
     "execution_count": 39,
     "metadata": {},
     "output_type": "execute_result"
    }
   ],
   "source": [
    "R_z = Matrix([[cos(phi), -sin(phi), 0], [sin(phi), cos(phi), 0], [0,0,1]])\n",
    "R_z"
   ]
  },
  {
   "cell_type": "code",
   "execution_count": 48,
   "metadata": {},
   "outputs": [
    {
     "data": {
      "text/latex": [
       "$\\displaystyle \\left[\\begin{matrix}- \\sin{\\left(\\phi \\right)} \\sin{\\left(\\psi \\right)} + \\cos{\\left(\\phi \\right)} \\cos{\\left(\\psi \\right)} \\cos{\\left(\\theta \\right)} & - \\sin{\\left(\\phi \\right)} \\cos{\\left(\\psi \\right)} \\cos{\\left(\\theta \\right)} - \\sin{\\left(\\psi \\right)} \\cos{\\left(\\phi \\right)} & \\sin{\\left(\\theta \\right)} \\cos{\\left(\\psi \\right)}\\\\\\sin{\\left(\\phi \\right)} \\cos{\\left(\\psi \\right)} + \\sin{\\left(\\psi \\right)} \\cos{\\left(\\phi \\right)} \\cos{\\left(\\theta \\right)} & - \\sin{\\left(\\phi \\right)} \\sin{\\left(\\psi \\right)} \\cos{\\left(\\theta \\right)} + \\cos{\\left(\\phi \\right)} \\cos{\\left(\\psi \\right)} & \\sin{\\left(\\psi \\right)} \\sin{\\left(\\theta \\right)}\\\\- \\sin{\\left(\\theta \\right)} \\cos{\\left(\\phi \\right)} & \\sin{\\left(\\phi \\right)} \\sin{\\left(\\theta \\right)} & \\cos{\\left(\\theta \\right)}\\end{matrix}\\right]$"
      ],
      "text/plain": [
       "Matrix([\n",
       "[-sin(phi)*sin(psi) + cos(phi)*cos(psi)*cos(theta), -sin(phi)*cos(psi)*cos(theta) - sin(psi)*cos(phi), sin(theta)*cos(psi)],\n",
       "[ sin(phi)*cos(psi) + sin(psi)*cos(phi)*cos(theta), -sin(phi)*sin(psi)*cos(theta) + cos(phi)*cos(psi), sin(psi)*sin(theta)],\n",
       "[                             -sin(theta)*cos(phi),                               sin(phi)*sin(theta),          cos(theta)]])"
      ]
     },
     "execution_count": 48,
     "metadata": {},
     "output_type": "execute_result"
    }
   ],
   "source": [
    "R = R_z.subs(phi, psi)*R_y.subs(phi, theta)*R_z\n",
    "R"
   ]
  },
  {
   "cell_type": "code",
   "execution_count": 50,
   "metadata": {},
   "outputs": [
    {
     "data": {
      "text/latex": [
       "$\\displaystyle \\left[\\begin{matrix}0.707106781186548 & 0 & -0.707106781186547\\\\0 & 1 & 0\\\\0.707106781186547 & 0 & 0.707106781186548\\end{matrix}\\right]$"
      ],
      "text/plain": [
       "Matrix([\n",
       "[0.707106781186548, 0, -0.707106781186547],\n",
       "[                0, 1,                  0],\n",
       "[0.707106781186547, 0,  0.707106781186548]])"
      ]
     },
     "execution_count": 50,
     "metadata": {},
     "output_type": "execute_result"
    }
   ],
   "source": [
    "val_theta = 45/360*2*np.pi\n",
    "val_phi = 0/360*2*np.pi\n",
    "val_psi = 0#np.pi#0/360*2*np.pi\n",
    "R=R.subs(phi, val_phi).subs(psi, val_psi).subs(theta, val_theta)\n",
    "R"
   ]
  },
  {
   "cell_type": "code",
   "execution_count": 44,
   "metadata": {},
   "outputs": [
    {
     "data": {
      "text/plain": [
       "134.99945053347443"
      ]
     },
     "execution_count": 44,
     "metadata": {},
     "output_type": "execute_result"
    }
   ],
   "source": [
    "np.arccos(-0.7071)/(2*np.pi)*360"
   ]
  },
  {
   "cell_type": "code",
   "execution_count": 54,
   "metadata": {},
   "outputs": [
    {
     "data": {
      "text/latex": [
       "$\\displaystyle \\left[\\begin{matrix}\\cos{\\left(\\psi \\right)} \\cos{\\left(\\theta \\right)} & \\sin{\\left(\\phi \\right)} \\sin{\\left(\\theta \\right)} \\cos{\\left(\\psi \\right)} - \\sin{\\left(\\psi \\right)} \\cos{\\left(\\phi \\right)} & \\sin{\\left(\\phi \\right)} \\sin{\\left(\\psi \\right)} + \\sin{\\left(\\theta \\right)} \\cos{\\left(\\phi \\right)} \\cos{\\left(\\psi \\right)}\\\\\\sin{\\left(\\psi \\right)} \\cos{\\left(\\theta \\right)} & \\sin{\\left(\\phi \\right)} \\sin{\\left(\\psi \\right)} \\sin{\\left(\\theta \\right)} + \\cos{\\left(\\phi \\right)} \\cos{\\left(\\psi \\right)} & - \\sin{\\left(\\phi \\right)} \\cos{\\left(\\psi \\right)} + \\sin{\\left(\\psi \\right)} \\sin{\\left(\\theta \\right)} \\cos{\\left(\\phi \\right)}\\\\- \\sin{\\left(\\theta \\right)} & \\sin{\\left(\\phi \\right)} \\cos{\\left(\\theta \\right)} & \\cos{\\left(\\phi \\right)} \\cos{\\left(\\theta \\right)}\\end{matrix}\\right]$"
      ],
      "text/plain": [
       "Matrix([\n",
       "[cos(psi)*cos(theta), sin(phi)*sin(theta)*cos(psi) - sin(psi)*cos(phi),  sin(phi)*sin(psi) + sin(theta)*cos(phi)*cos(psi)],\n",
       "[sin(psi)*cos(theta), sin(phi)*sin(psi)*sin(theta) + cos(phi)*cos(psi), -sin(phi)*cos(psi) + sin(psi)*sin(theta)*cos(phi)],\n",
       "[        -sin(theta),                              sin(phi)*cos(theta),                               cos(phi)*cos(theta)]])"
      ]
     },
     "execution_count": 54,
     "metadata": {},
     "output_type": "execute_result"
    }
   ],
   "source": [
    "R = R_z.subs(phi, psi)*R_y.subs(phi, theta)*R_x\n",
    "R"
   ]
  },
  {
   "cell_type": "code",
   "execution_count": 55,
   "metadata": {},
   "outputs": [
    {
     "data": {
      "text/latex": [
       "$\\displaystyle \\left[\\begin{matrix}0.75 & -0.649519052838329 & -0.125\\\\0.433012701892219 & 0.625 & -0.649519052838329\\\\0.5 & 0.433012701892219 & 0.75\\end{matrix}\\right]$"
      ],
      "text/plain": [
       "Matrix([\n",
       "[             0.75, -0.649519052838329,             -0.125],\n",
       "[0.433012701892219,              0.625, -0.649519052838329],\n",
       "[              0.5,  0.433012701892219,               0.75]])"
      ]
     },
     "execution_count": 55,
     "metadata": {},
     "output_type": "execute_result"
    }
   ],
   "source": [
    "val_theta = -30/360*2*np.pi\n",
    "val_phi = 30/360*2*np.pi\n",
    "val_psi = 30/360*2*np.pi\n",
    "R=R.subs(phi, val_phi).subs(psi, val_psi).subs(theta, val_theta)\n",
    "R"
   ]
  },
  {
   "cell_type": "code",
   "execution_count": null,
   "metadata": {},
   "outputs": [],
   "source": []
  }
 ],
 "metadata": {
  "kernelspec": {
   "display_name": "base",
   "language": "python",
   "name": "python3"
  },
  "language_info": {
   "codemirror_mode": {
    "name": "ipython",
    "version": 3
   },
   "file_extension": ".py",
   "mimetype": "text/x-python",
   "name": "python",
   "nbconvert_exporter": "python",
   "pygments_lexer": "ipython3",
   "version": "3.8.5"
  },
  "orig_nbformat": 4,
  "vscode": {
   "interpreter": {
    "hash": "efcf8a7d29568ee6aa19d18162f3216c75d115c7ce0b1cb4e80848b9a37f2ca8"
   }
  }
 },
 "nbformat": 4,
 "nbformat_minor": 2
}
